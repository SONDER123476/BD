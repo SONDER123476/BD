{
  "nbformat": 4,
  "nbformat_minor": 0,
  "metadata": {
    "colab": {
      "provenance": []
    },
    "kernelspec": {
      "name": "python3",
      "display_name": "Python 3"
    },
    "language_info": {
      "name": "python"
    }
  },
  "cells": [
    {
      "cell_type": "code",
      "source": [
        "!pip install pyspark"
      ],
      "metadata": {
        "colab": {
          "base_uri": "https://localhost:8080/"
        },
        "id": "QJDlj-KyY-UK",
        "outputId": "feafa780-3152-4105-b481-e8b16ad54fad"
      },
      "execution_count": 2,
      "outputs": [
        {
          "output_type": "stream",
          "name": "stdout",
          "text": [
            "Collecting pyspark\n",
            "  Downloading pyspark-3.5.1.tar.gz (317.0 MB)\n",
            "\u001b[2K     \u001b[90m━━━━━━━━━━━━━━━━━━━━━━━━━━━━━━━━━━━━━━━━\u001b[0m \u001b[32m317.0/317.0 MB\u001b[0m \u001b[31m3.7 MB/s\u001b[0m eta \u001b[36m0:00:00\u001b[0m\n",
            "\u001b[?25h  Preparing metadata (setup.py) ... \u001b[?25l\u001b[?25hdone\n",
            "Requirement already satisfied: py4j==0.10.9.7 in /usr/local/lib/python3.10/dist-packages (from pyspark) (0.10.9.7)\n",
            "Building wheels for collected packages: pyspark\n",
            "  Building wheel for pyspark (setup.py) ... \u001b[?25l\u001b[?25hdone\n",
            "  Created wheel for pyspark: filename=pyspark-3.5.1-py2.py3-none-any.whl size=317488491 sha256=62373ac5ef4bb2d4d3d064c07ffea4bf94ca98abbd71370f26e837e507ef3f45\n",
            "  Stored in directory: /root/.cache/pip/wheels/80/1d/60/2c256ed38dddce2fdd93be545214a63e02fbd8d74fb0b7f3a6\n",
            "Successfully built pyspark\n",
            "Installing collected packages: pyspark\n",
            "Successfully installed pyspark-3.5.1\n"
          ]
        }
      ]
    },
    {
      "cell_type": "code",
      "execution_count": 3,
      "metadata": {
        "id": "mKDfjYPvYz4F"
      },
      "outputs": [],
      "source": [
        "from pyspark import SparkContext, SparkConf\n",
        "\n",
        "import pyspark.sql as sql\n",
        "from pyspark.sql import SparkSession\n",
        "from pyspark.sql.types import DoubleType\n",
        "from pyspark.sql.functions import udf, col, max, sum, countDistinct\n",
        "from typing import NamedTuple\n",
        "from datetime import datetime\n",
        "from functools import reduce"
      ]
    },
    {
      "cell_type": "code",
      "source": [
        "app_name = \"LR1_Apache_Spark\"\n",
        "conf = SparkConf().setAppName(app_name).setMaster('local[1]')\n",
        "sc = SparkContext(conf=conf)\n",
        "sc"
      ],
      "metadata": {
        "colab": {
          "base_uri": "https://localhost:8080/",
          "height": 199
        },
        "id": "oqbOTcH0aOVo",
        "outputId": "ebf8c87b-6043-4bd3-d600-0d9619926786"
      },
      "execution_count": 4,
      "outputs": [
        {
          "output_type": "execute_result",
          "data": {
            "text/plain": [
              "<SparkContext master=local[1] appName=LR1_Apache_Spark>"
            ],
            "text/html": [
              "\n",
              "        <div>\n",
              "            <p><b>SparkContext</b></p>\n",
              "\n",
              "            <p><a href=\"http://942cbab02e63:4040\">Spark UI</a></p>\n",
              "\n",
              "            <dl>\n",
              "              <dt>Version</dt>\n",
              "                <dd><code>v3.5.1</code></dd>\n",
              "              <dt>Master</dt>\n",
              "                <dd><code>local[1]</code></dd>\n",
              "              <dt>AppName</dt>\n",
              "                <dd><code>LR1_Apache_Spark</code></dd>\n",
              "            </dl>\n",
              "        </div>\n",
              "        "
            ]
          },
          "metadata": {},
          "execution_count": 4
        }
      ]
    },
    {
      "cell_type": "code",
      "source": [
        "def initStation(stations):\n",
        "    class Station(NamedTuple):\n",
        "        station_id: int\n",
        "        name: str\n",
        "        lat: float\n",
        "        long: float\n",
        "        dockcount: int\n",
        "        landmark: str\n",
        "        installation: str\n",
        "\n",
        "    for station in stations:\n",
        "        yield Station(\n",
        "            station_id = int(station[0]),\n",
        "            name = station[1],\n",
        "            lat = float(station[2]),\n",
        "            long = float(station[3]),\n",
        "            dockcount = int(station[4]),\n",
        "            landmark = station[5],\n",
        "            installation = datetime.strptime(station[6], '%m/%d/%Y')\n",
        "        )\n",
        "\n",
        "def initTrip(trips):\n",
        "    class Trip(NamedTuple):\n",
        "        trip_id: int\n",
        "        duration: int\n",
        "        start_date: datetime\n",
        "        start_station_name: str\n",
        "        start_station_id: int\n",
        "        end_date: datetime\n",
        "        end_station_name: str\n",
        "        end_station_id: int\n",
        "        bike_id: int\n",
        "        subscription_type: str\n",
        "        zip_code: str\n",
        "\n",
        "    for trip in trips:\n",
        "        try:\n",
        "            yield Trip(\n",
        "             trip_id = int(trip[0]),\n",
        "             duration = int(trip[1]),\n",
        "             start_date = datetime.strptime(trip[2], '%m/%d/%Y %H:%M'),\n",
        "             start_station_name = trip[3],\n",
        "             start_station_id = int(trip[4]),\n",
        "             end_date = datetime.strptime(trip[5], '%m/%d/%Y %H:%M'),\n",
        "             end_station_name = trip[6],\n",
        "             end_station_id = trip[7],\n",
        "             bike_id = int(trip[8]),\n",
        "             subscription_type = trip[9],\n",
        "             zip_code = trip[10]\n",
        "            )\n",
        "        except:\n",
        "            pass"
      ],
      "metadata": {
        "id": "xIVxZwuSaYQE"
      },
      "execution_count": 5,
      "outputs": []
    },
    {
      "cell_type": "code",
      "source": [
        "trip_data = sc.textFile(\"trips.csv\")\n",
        "tripsHeader = trip_data.first()\n",
        "trips = trip_data.filter(lambda row: row != tripsHeader).map(lambda row: row.split(\",\", -1))\n",
        "stationData = sc.textFile(\"stations.csv\")\n",
        "stationsHeader = stationData.first()\n",
        "stations = stationData.filter(lambda row: row != stationsHeader).map(lambda row: row.split(\",\", -1))"
      ],
      "metadata": {
        "id": "bbfw-I_Oaf1O"
      },
      "execution_count": 8,
      "outputs": []
    },
    {
      "cell_type": "code",
      "source": [
        "stationsIndexed = stations.keyBy(lambda station: station[0])"
      ],
      "metadata": {
        "id": "29fw2yxxbBXG"
      },
      "execution_count": 9,
      "outputs": []
    },
    {
      "cell_type": "code",
      "source": [
        "stationsIndexed.take(2)"
      ],
      "metadata": {
        "colab": {
          "base_uri": "https://localhost:8080/"
        },
        "id": "kQCI_4s_brCv",
        "outputId": "ae35d144-f2f2-4a6e-e698-ac23fa091e8f"
      },
      "execution_count": 10,
      "outputs": [
        {
          "output_type": "execute_result",
          "data": {
            "text/plain": [
              "[('2',\n",
              "  ['2',\n",
              "   'San Jose Diridon Caltrain Station',\n",
              "   '37.329732',\n",
              "   '-121.90178200000001',\n",
              "   '27',\n",
              "   'San Jose',\n",
              "   '8/6/2013']),\n",
              " ('3',\n",
              "  ['3',\n",
              "   'San Jose Civic Center',\n",
              "   '37.330698',\n",
              "   '-121.888979',\n",
              "   '15',\n",
              "   'San Jose',\n",
              "   '8/5/2013'])]"
            ]
          },
          "metadata": {},
          "execution_count": 10
        }
      ]
    },
    {
      "cell_type": "code",
      "source": [
        "tripsByStartTerminals = trips.keyBy(lambda trip: trip[4])\n",
        "tripsByEndTerminals = trips.keyBy(lambda trip: trip[7])"
      ],
      "metadata": {
        "id": "9Mo3VDcIb9tu"
      },
      "execution_count": 11,
      "outputs": []
    },
    {
      "cell_type": "code",
      "source": [
        "tripsByStartTerminals.take(2)"
      ],
      "metadata": {
        "colab": {
          "base_uri": "https://localhost:8080/"
        },
        "id": "D9zHPykUmPcH",
        "outputId": "578e29f4-dfee-4e87-dbc0-a9b664b375e8"
      },
      "execution_count": 12,
      "outputs": [
        {
          "output_type": "execute_result",
          "data": {
            "text/plain": [
              "[('66',\n",
              "  ['4576',\n",
              "   '63',\n",
              "   '',\n",
              "   'South Van Ness at Market',\n",
              "   '66',\n",
              "   '8/29/2013 14:14',\n",
              "   'South Van Ness at Market',\n",
              "   '66',\n",
              "   '520',\n",
              "   'Subscriber',\n",
              "   '94127']),\n",
              " ('10',\n",
              "  ['4607',\n",
              "   '',\n",
              "   '8/29/2013 14:42',\n",
              "   'San Jose City Hall',\n",
              "   '10',\n",
              "   '8/29/2013 14:43',\n",
              "   'San Jose City Hall',\n",
              "   '10',\n",
              "   '661',\n",
              "   'Subscriber',\n",
              "   '95138'])]"
            ]
          },
          "metadata": {},
          "execution_count": 12
        }
      ]
    },
    {
      "cell_type": "code",
      "source": [
        "tripsByEndTerminals.take(2)"
      ],
      "metadata": {
        "colab": {
          "base_uri": "https://localhost:8080/"
        },
        "id": "TIrDEa6cmyGj",
        "outputId": "1fe458b1-942c-45f0-ffc1-98d97db72a0e"
      },
      "execution_count": 13,
      "outputs": [
        {
          "output_type": "execute_result",
          "data": {
            "text/plain": [
              "[('66',\n",
              "  ['4576',\n",
              "   '63',\n",
              "   '',\n",
              "   'South Van Ness at Market',\n",
              "   '66',\n",
              "   '8/29/2013 14:14',\n",
              "   'South Van Ness at Market',\n",
              "   '66',\n",
              "   '520',\n",
              "   'Subscriber',\n",
              "   '94127']),\n",
              " ('10',\n",
              "  ['4607',\n",
              "   '',\n",
              "   '8/29/2013 14:42',\n",
              "   'San Jose City Hall',\n",
              "   '10',\n",
              "   '8/29/2013 14:43',\n",
              "   'San Jose City Hall',\n",
              "   '10',\n",
              "   '661',\n",
              "   'Subscriber',\n",
              "   '95138'])]"
            ]
          },
          "metadata": {},
          "execution_count": 13
        }
      ]
    },
    {
      "cell_type": "code",
      "source": [
        "stations_mapped = stations.mapPartitions(initStation)"
      ],
      "metadata": {
        "id": "gItmXHzYo5V7"
      },
      "execution_count": 14,
      "outputs": []
    },
    {
      "cell_type": "code",
      "source": [
        "trips_mapped= trips.mapPartitions(initTrip)"
      ],
      "metadata": {
        "id": "Hu1_1UCvo6Wp"
      },
      "execution_count": 15,
      "outputs": []
    },
    {
      "cell_type": "markdown",
      "source": [
        "##Задание 1. Найти велосипед с максимальным временем пробега"
      ],
      "metadata": {
        "id": "nYhnhNPWoD38"
      }
    },
    {
      "cell_type": "code",
      "source": [
        "# Отображаем каждый велосипед по его идентификатору и продолжительности поездки\n",
        "bikes_with_mileage = trips_mapped.keyBy(lambda x: x.bike_id)\n",
        "\n",
        "# Суммируем продолжительность поездок для каждого велосипеда\n",
        "bike_durations = bikes_with_mileage.mapValues(lambda x: x.duration).reduceByKey(lambda x1, x2: x1 + x2)\n",
        "\n",
        "# Находим велосипед с максимальной продолжительностью поездок\n",
        "bike_with_max_mileage = bike_durations.top(1, key=lambda x: x[1])[0][0]\n",
        "\n",
        "# Print the result\n",
        "print(f\"Велосипед #{bike_with_max_mileage} имеет максимальную продолжительность поездок\")\n"
      ],
      "metadata": {
        "colab": {
          "base_uri": "https://localhost:8080/"
        },
        "id": "bc0DPwXyoDBU",
        "outputId": "79fe6418-f4d9-42a7-9b1d-b5019eff4fef"
      },
      "execution_count": 19,
      "outputs": [
        {
          "output_type": "stream",
          "name": "stdout",
          "text": [
            "Велосипед #501 имеет максимальную продолжительность поездок\n"
          ]
        }
      ]
    },
    {
      "cell_type": "markdown",
      "source": [
        "## Задание 2. Найти наибольшее геодезическое расстояние между станциями\n"
      ],
      "metadata": {
        "id": "q4K9aANDp5yt"
      }
    },
    {
      "cell_type": "code",
      "source": [
        "# Отфильтруем поездки, где станции начала и конца отличаются, затем сопоставим каждую поездку с идентификаторами станций начала и конца\n",
        "trips_between_stations = trips_mapped.filter(lambda trip: str(trip.start_station_id) != str(trip.end_station_id))\\\n",
        "                                     .keyBy(lambda trip: (trip.start_station_id, trip.end_station_id))\\\n",
        "                                     .mapValues(lambda trip: trip.duration)\n",
        "\n",
        "# Сагрегируем продолжительности поездок между каждой парой станций\n",
        "station_distances = trips_between_stations\\\n",
        "    .aggregateByKey(\n",
        "        (0.0, 0.0),\n",
        "        lambda acc, value: (acc[0] + value, acc[1] + 1),\n",
        "        lambda acc1, acc2: (acc1[0] + acc2[0], acc1[1] + acc2[1]),)\\\n",
        "    .mapValues(lambda values: values[0] / values[1])\n",
        "\n",
        "# Найдем пять самых длинных расстояний между станциями\n",
        "station_distances.map(lambda x: x[::-1]).top(5)\n"
      ],
      "metadata": {
        "colab": {
          "base_uri": "https://localhost:8080/"
        },
        "id": "IsdcIDfNqDHC",
        "outputId": "7f33fe07-c763-43d2-d90d-f09d683720f3"
      },
      "execution_count": 20,
      "outputs": [
        {
          "output_type": "execute_result",
          "data": {
            "text/plain": [
              "[(83116.66666666667, (60, '65')),\n",
              " (52698.0, (27, '38')),\n",
              " (50771.5, (68, '72')),\n",
              " (50626.0, (72, '59')),\n",
              " (38225.0, (54, '67'))]"
            ]
          },
          "metadata": {},
          "execution_count": 20
        }
      ]
    },
    {
      "cell_type": "markdown",
      "source": [
        "##Задание 3. Найти путь велосипеда с максимальным временем пробега через станции"
      ],
      "metadata": {
        "id": "_6mFK_ojqtmI"
      }
    },
    {
      "cell_type": "code",
      "source": [
        "# Фильтруем поездки по идентификатору велосипеда с максимальной продолжительностью поездок, затем сортируем их по дате начала и отображаем каждую поездку в имена станций начала и конца\n",
        "bike_path = trips_mapped.filter(lambda x: x.bike_id == bike_duration_top)\\\n",
        "                        .sortBy(lambda x: x.start_date)\\\n",
        "                        .map(lambda x: (x.start_station_name, x.end_station_name))\n",
        "\n",
        "# Получаем первый элемент в RDD\n",
        "bike_path.first()\n"
      ],
      "metadata": {
        "colab": {
          "base_uri": "https://localhost:8080/"
        },
        "id": "jiHaw40wqvQN",
        "outputId": "09cfb936-67bc-480b-9306-07d80c091fa8"
      },
      "execution_count": 22,
      "outputs": [
        {
          "output_type": "execute_result",
          "data": {
            "text/plain": [
              "('Embarcadero at Vallejo', 'Market at Sansome')"
            ]
          },
          "metadata": {},
          "execution_count": 22
        }
      ]
    },
    {
      "cell_type": "markdown",
      "source": [
        "## Задание 4. Найти количество велосипедов в системе."
      ],
      "metadata": {
        "id": "1j9X7dGpqypA"
      }
    },
    {
      "cell_type": "code",
      "source": [
        "count_bikes = trips_mapped.map(lambda x: x.bike_id).distinct().count()\n",
        "count_bikes"
      ],
      "metadata": {
        "colab": {
          "base_uri": "https://localhost:8080/"
        },
        "id": "Ja2LNpf1q2Ev",
        "outputId": "14d8466d-7c64-4c7e-ad31-6d843fadad40"
      },
      "execution_count": 23,
      "outputs": [
        {
          "output_type": "execute_result",
          "data": {
            "text/plain": [
              "561"
            ]
          },
          "metadata": {},
          "execution_count": 23
        }
      ]
    },
    {
      "cell_type": "markdown",
      "source": [
        "## Задание 5. Найти пользователей потративших на поездки более 3 часов."
      ],
      "metadata": {
        "id": "JVuvdR_2q4DQ"
      }
    },
    {
      "cell_type": "code",
      "source": [
        "# Фильтруем поездки, продолжительность которых превышает 3 часа (в секундах),\n",
        "# затем извлекаем почтовые индексы пользователей, исключаем пустые значения\n",
        "# и находим уникальных пользователей\n",
        "users = trips_mapped.filter(lambda x: x.duration > (3 * 60 * 60))\\\n",
        "                           .map(lambda x: x.zip_code)\\\n",
        "                           .filter(lambda x: x != \"\")\\\n",
        "                           .distinct()\n",
        "\n",
        "# Получаем первые 10 пользователей\n",
        "users.take(10)\n"
      ],
      "metadata": {
        "colab": {
          "base_uri": "https://localhost:8080/"
        },
        "id": "EcjaGJQOq3rF",
        "outputId": "30aecf54-bb56-4856-d539-f1450b75f721"
      },
      "execution_count": 24,
      "outputs": [
        {
          "output_type": "execute_result",
          "data": {
            "text/plain": [
              "['94536',\n",
              " '72150',\n",
              " '58553',\n",
              " '94301',\n",
              " '94118',\n",
              " '94111',\n",
              " '94039',\n",
              " '94133',\n",
              " '94538',\n",
              " '95112']"
            ]
          },
          "metadata": {},
          "execution_count": 24
        }
      ]
    },
    {
      "cell_type": "code",
      "source": [
        "sc.stop()"
      ],
      "metadata": {
        "id": "nPAbWyhomPG_"
      },
      "execution_count": 25,
      "outputs": []
    }
  ]
}